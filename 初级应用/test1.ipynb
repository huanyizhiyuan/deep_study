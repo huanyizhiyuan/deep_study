{
 "cells": [
  {
   "cell_type": "raw",
   "source": [
    "# Tensorflow快速入门——线性回归\n",
    "运用Tensorflow进行线性回归"
   ],
   "metadata": {
    "collapsed": false
   },
   "id": "284fa53be4ef22f0"
  },
  {
   "cell_type": "code",
   "execution_count": 14,
   "outputs": [],
   "source": [
    "#--*coding--:utf-8\n",
    "import tensorflow as tf\n",
    "import numpy\n",
    "import matplotlib.pyplot as plt\n",
    "rng = numpy.random"
   ],
   "metadata": {
    "collapsed": false,
    "ExecuteTime": {
     "end_time": "2024-02-27T11:02:40.449878100Z",
     "start_time": "2024-02-27T11:02:40.435307600Z"
    }
   },
   "id": "5a7240078c607efb"
  },
  {
   "cell_type": "code",
   "execution_count": 1,
   "outputs": [],
   "source": [
    "# 参数设定\n",
    "learning_rate = 0.01  # 学习率\n",
    "training_epochs = 10000  # 迭代次数\n",
    "display_step = 50  # 每隔50次迭代，在屏幕中打出日志。"
   ],
   "metadata": {
    "collapsed": false,
    "ExecuteTime": {
     "end_time": "2024-02-27T11:40:21.455457200Z",
     "start_time": "2024-02-27T11:40:21.436518200Z"
    }
   },
   "id": "1c40b0ed6e04e54d"
  },
  {
   "cell_type": "code",
   "execution_count": 16,
   "outputs": [
    {
     "name": "stdout",
     "output_type": "stream",
     "text": [
      "train_X: [ 3.3    4.4    5.5    6.71   6.93   4.168  9.779  6.182  7.59   2.167\n",
      "  7.042 10.791  5.313  7.997  5.654  9.27   3.1  ]\n",
      "train_Y: [1.7   2.76  2.09  3.19  1.694 1.573 3.366 2.596 2.53  1.221 2.827 3.465\n",
      " 1.65  2.904 2.42  2.94  1.3  ]\n"
     ]
    }
   ],
   "source": [
    "# 训练数据\n",
    "train_X = numpy.asarray([3.3,4.4,5.5,6.71,6.93,4.168,9.779,6.182,7.59,2.167,\n",
    "                         7.042,10.791,5.313,7.997,5.654,9.27,3.1])\n",
    "train_Y = numpy.asarray([1.7,2.76,2.09,3.19,1.694,1.573,3.366,2.596,2.53,1.221,\n",
    "                         2.827,3.465,1.65,2.904,2.42,2.94,1.3])\n",
    "n_samples = train_X.shape[0]\n",
    "print(\"train_X:\",train_X)\n",
    "print(\"train_Y:\",train_Y)"
   ],
   "metadata": {
    "collapsed": false,
    "ExecuteTime": {
     "end_time": "2024-02-27T11:02:40.482736700Z",
     "start_time": "2024-02-27T11:02:40.470791800Z"
    }
   },
   "id": "e8434aa7edd2e3ac"
  },
  {
   "cell_type": "code",
   "execution_count": 17,
   "outputs": [],
   "source": [
    "# 设置placeholder\n",
    "\"\"\"设置两个浮点型变量值\"\"\"\n",
    "X = tf.placeholder(\"float\")\n",
    "Y = tf.placeholder(\"float\")\n",
    "\n",
    "# 设置模型的权重和偏置\n",
    "\"\"\"\n",
    "因为权重W和偏置B在运行过程中是在不断更新的，所以我们使用Variable而不是constant\n",
    "最开始的权重和偏置是随机的。\n",
    "\"\"\"\n",
    "W = tf.Variable(rng.randn(), name=\"weight\")\n",
    "b = tf.Variable(rng.randn(), name=\"bias\")"
   ],
   "metadata": {
    "collapsed": false,
    "ExecuteTime": {
     "end_time": "2024-02-27T11:02:40.530363200Z",
     "start_time": "2024-02-27T11:02:40.483809600Z"
    }
   },
   "id": "c83232f3f352d845"
  },
  {
   "cell_type": "code",
   "execution_count": 18,
   "outputs": [],
   "source": [
    "# 设置线性回归的方程\n",
    "\"\"\"设置的线性回归方程很简单，就是X*W+b\"\"\"\n",
    "pred = tf.add(tf.multiply(X, W), b)"
   ],
   "metadata": {
    "collapsed": false,
    "ExecuteTime": {
     "end_time": "2024-02-27T11:02:40.534954700Z",
     "start_time": "2024-02-27T11:02:40.516787400Z"
    }
   },
   "id": "ef30dcef0605a284"
  },
  {
   "cell_type": "code",
   "execution_count": 19,
   "outputs": [],
   "source": [
    "# 设置cost为均方差\n",
    "\"\"\"reduce_sum即均方差\"\"\"\n",
    "cost = tf.reduce_sum(tf.pow(pred-Y, 2))/(2*n_samples)\n",
    "# 梯度下降\n",
    "# 注意，minimize() 可以自动修正w和b，因为默认设置Variables的trainable=True\n",
    "\"\"\"选择了最简单的一种，现在还没有详细说明，先忽略，貌似是一步一步迭代\"\"\"\n",
    "optimizer = tf.train.GradientDescentOptimizer(learning_rate).minimize(cost)"
   ],
   "metadata": {
    "collapsed": false,
    "ExecuteTime": {
     "end_time": "2024-02-27T11:02:40.668962Z",
     "start_time": "2024-02-27T11:02:40.530363200Z"
    }
   },
   "id": "486657dcb0c6e87a"
  },
  {
   "cell_type": "code",
   "execution_count": 20,
   "outputs": [],
   "source": [
    "# 初始化所有variables \n",
    "\"\"\"不初始化就会报错\"\"\"\n",
    "init = tf.global_variables_initializer()"
   ],
   "metadata": {
    "collapsed": false,
    "ExecuteTime": {
     "end_time": "2024-02-27T11:02:40.694803100Z",
     "start_time": "2024-02-27T11:02:40.668962Z"
    }
   },
   "id": "342b23566d844ba3"
  },
  {
   "cell_type": "code",
   "execution_count": 21,
   "outputs": [
    {
     "name": "stdout",
     "output_type": "stream",
     "text": [
      "WARNING:tensorflow:From C:\\Users\\huanyizhiyuan\\AppData\\Local\\Temp\\ipykernel_32632\\2278128798.py:2: The name tf.Session is deprecated. Please use tf.compat.v1.Session instead.\n",
      "Epoch: 0050 cost= 0.121574178 W= 0.36774352 b= -0.04849595\n",
      "Epoch: 0100 cost= 0.116418846 W= 0.3607166 b= 0.002055325\n",
      "Epoch: 0150 cost= 0.111859076 W= 0.35410762 b= 0.049600076\n",
      "Epoch: 0200 cost= 0.107826129 W= 0.34789172 b= 0.094317116\n",
      "Epoch: 0250 cost= 0.104259156 W= 0.34204543 b= 0.13637455\n",
      "Epoch: 0300 cost= 0.101104341 W= 0.3365468 b= 0.17593089\n",
      "Epoch: 0350 cost= 0.098314077 W= 0.33137533 b= 0.21313447\n",
      "Epoch: 0400 cost= 0.095846251 W= 0.32651135 b= 0.2481255\n",
      "Epoch: 0450 cost= 0.093663670 W= 0.32193667 b= 0.28103557\n",
      "Epoch: 0500 cost= 0.091733344 W= 0.31763402 b= 0.31198838\n",
      "Epoch: 0550 cost= 0.090026207 W= 0.31358728 b= 0.34110004\n",
      "Epoch: 0600 cost= 0.088516414 W= 0.3097813 b= 0.36848012\n",
      "Epoch: 0650 cost= 0.087181151 W= 0.3062016 b= 0.39423248\n",
      "Epoch: 0700 cost= 0.086000346 W= 0.3028349 b= 0.41845202\n",
      "Epoch: 0750 cost= 0.084956124 W= 0.29966837 b= 0.44123152\n",
      "Epoch: 0800 cost= 0.084032618 W= 0.2966902 b= 0.4626569\n",
      "Epoch: 0850 cost= 0.083215952 W= 0.29388905 b= 0.48280832\n",
      "Epoch: 0900 cost= 0.082493812 W= 0.29125467 b= 0.50175965\n",
      "Epoch: 0950 cost= 0.081855200 W= 0.2887769 b= 0.5195848\n",
      "Epoch: 1000 cost= 0.081290491 W= 0.2864464 b= 0.53635013\n",
      "Epoch: 1050 cost= 0.080791168 W= 0.28425446 b= 0.55211824\n",
      "Epoch: 1100 cost= 0.080349632 W= 0.28219295 b= 0.5669491\n",
      "Epoch: 1150 cost= 0.079959251 W= 0.280254 b= 0.5808975\n",
      "Epoch: 1200 cost= 0.079614051 W= 0.27843046 b= 0.59401685\n",
      "Epoch: 1250 cost= 0.079308860 W= 0.27671522 b= 0.6063561\n",
      "Epoch: 1300 cost= 0.079039052 W= 0.27510202 b= 0.6179609\n",
      "Epoch: 1350 cost= 0.078800552 W= 0.273585 b= 0.6288736\n",
      "Epoch: 1400 cost= 0.078589693 W= 0.27215832 b= 0.6391375\n",
      "Epoch: 1450 cost= 0.078403272 W= 0.27081627 b= 0.6487918\n",
      "Epoch: 1500 cost= 0.078238495 W= 0.2695541 b= 0.6578719\n",
      "Epoch: 1550 cost= 0.078092821 W= 0.26836714 b= 0.66641164\n",
      "Epoch: 1600 cost= 0.077964090 W= 0.26725048 b= 0.6744437\n",
      "Epoch: 1650 cost= 0.077850275 W= 0.26620048 b= 0.68199766\n",
      "Epoch: 1700 cost= 0.077749684 W= 0.26521283 b= 0.689103\n",
      "Epoch: 1750 cost= 0.077660814 W= 0.26428372 b= 0.69578606\n",
      "Epoch: 1800 cost= 0.077582233 W= 0.2634102 b= 0.70207155\n",
      "Epoch: 1850 cost= 0.077512816 W= 0.26258826 b= 0.7079835\n",
      "Epoch: 1900 cost= 0.077451490 W= 0.2618154 b= 0.7135438\n",
      "Epoch: 1950 cost= 0.077397265 W= 0.26108855 b= 0.7187731\n",
      "Epoch: 2000 cost= 0.077349409 W= 0.2604048 b= 0.7236912\n",
      "Epoch: 2050 cost= 0.077307113 W= 0.25976184 b= 0.7283174\n",
      "Epoch: 2100 cost= 0.077269740 W= 0.25915688 b= 0.7326688\n",
      "Epoch: 2150 cost= 0.077236742 W= 0.25858805 b= 0.7367609\n",
      "Epoch: 2200 cost= 0.077207595 W= 0.25805297 b= 0.7406103\n",
      "Epoch: 2250 cost= 0.077181868 W= 0.2575498 b= 0.74423015\n",
      "Epoch: 2300 cost= 0.077159122 W= 0.25707653 b= 0.7476352\n",
      "Epoch: 2350 cost= 0.077139072 W= 0.2566314 b= 0.7508372\n",
      "Epoch: 2400 cost= 0.077121377 W= 0.2562127 b= 0.753849\n",
      "Epoch: 2450 cost= 0.077105746 W= 0.25581884 b= 0.756682\n",
      "Epoch: 2500 cost= 0.077091932 W= 0.2554485 b= 0.7593469\n",
      "Epoch: 2550 cost= 0.077079773 W= 0.25510013 b= 0.76185244\n",
      "Epoch: 2600 cost= 0.077069052 W= 0.25477248 b= 0.7642097\n",
      "Epoch: 2650 cost= 0.077059574 W= 0.25446433 b= 0.76642674\n",
      "Epoch: 2700 cost= 0.077051222 W= 0.2541745 b= 0.7685114\n",
      "Epoch: 2750 cost= 0.077043861 W= 0.25390193 b= 0.77047265\n",
      "Epoch: 2800 cost= 0.077037349 W= 0.2536454 b= 0.7723179\n",
      "Epoch: 2850 cost= 0.077031642 W= 0.2534044 b= 0.77405196\n",
      "Epoch: 2900 cost= 0.077026598 W= 0.25317755 b= 0.7756838\n",
      "Epoch: 2950 cost= 0.077022165 W= 0.25296414 b= 0.7772191\n",
      "Epoch: 3000 cost= 0.077018254 W= 0.25276342 b= 0.7786632\n",
      "Epoch: 3050 cost= 0.077014811 W= 0.25257486 b= 0.78001976\n",
      "Epoch: 3100 cost= 0.077011779 W= 0.25239745 b= 0.7812958\n",
      "Epoch: 3150 cost= 0.077009127 W= 0.2522304 b= 0.7824975\n",
      "Epoch: 3200 cost= 0.077006780 W= 0.25207338 b= 0.7836274\n",
      "Epoch: 3250 cost= 0.077004731 W= 0.25192556 b= 0.7846906\n",
      "Epoch: 3300 cost= 0.077002920 W= 0.25178665 b= 0.7856899\n",
      "Epoch: 3350 cost= 0.077001326 W= 0.25165647 b= 0.78662664\n",
      "Epoch: 3400 cost= 0.076999947 W= 0.25153404 b= 0.7875072\n",
      "Epoch: 3450 cost= 0.076998711 W= 0.25141883 b= 0.7883367\n",
      "Epoch: 3500 cost= 0.076997668 W= 0.2513105 b= 0.78911513\n",
      "Epoch: 3550 cost= 0.076996729 W= 0.25120842 b= 0.78984976\n",
      "Epoch: 3600 cost= 0.076995887 W= 0.25111252 b= 0.7905399\n",
      "Epoch: 3650 cost= 0.076995179 W= 0.25102222 b= 0.7911893\n",
      "Epoch: 3700 cost= 0.076994531 W= 0.25093737 b= 0.7917998\n",
      "Epoch: 3750 cost= 0.076994009 W= 0.25085747 b= 0.79237396\n",
      "Epoch: 3800 cost= 0.076993518 W= 0.25078276 b= 0.7929116\n",
      "Epoch: 3850 cost= 0.076993115 W= 0.25071228 b= 0.79341793\n",
      "Epoch: 3900 cost= 0.076992750 W= 0.2506459 b= 0.7938957\n",
      "Epoch: 3950 cost= 0.076992437 W= 0.25058347 b= 0.7943451\n",
      "Epoch: 4000 cost= 0.076992162 W= 0.2505248 b= 0.794767\n",
      "Epoch: 4050 cost= 0.076991916 W= 0.2504696 b= 0.7951643\n",
      "Epoch: 4100 cost= 0.076991715 W= 0.25041777 b= 0.7955375\n",
      "Epoch: 4150 cost= 0.076991536 W= 0.2503689 b= 0.7958888\n",
      "Epoch: 4200 cost= 0.076991387 W= 0.2503229 b= 0.7962196\n",
      "Epoch: 4250 cost= 0.076991268 W= 0.250279 b= 0.7965354\n",
      "Epoch: 4300 cost= 0.076991156 W= 0.25023854 b= 0.7968268\n",
      "Epoch: 4350 cost= 0.076991037 W= 0.25020036 b= 0.7971009\n",
      "Epoch: 4400 cost= 0.076990962 W= 0.25016445 b= 0.7973592\n",
      "Epoch: 4450 cost= 0.076990895 W= 0.2501305 b= 0.7976037\n",
      "Epoch: 4500 cost= 0.076990835 W= 0.25009856 b= 0.7978341\n",
      "Epoch: 4550 cost= 0.076990776 W= 0.25006846 b= 0.79805076\n",
      "Epoch: 4600 cost= 0.076990739 W= 0.25004008 b= 0.79825455\n",
      "Epoch: 4650 cost= 0.076990709 W= 0.25001383 b= 0.7984434\n",
      "Epoch: 4700 cost= 0.076990686 W= 0.2499891 b= 0.7986211\n",
      "Epoch: 4750 cost= 0.076990642 W= 0.24996608 b= 0.7987873\n",
      "Epoch: 4800 cost= 0.076990642 W= 0.2499442 b= 0.7989436\n",
      "Epoch: 4850 cost= 0.076990642 W= 0.24992366 b= 0.79909176\n",
      "Epoch: 4900 cost= 0.076990612 W= 0.24990438 b= 0.79923075\n",
      "Epoch: 4950 cost= 0.076990612 W= 0.24988624 b= 0.799361\n",
      "Epoch: 5000 cost= 0.076990589 W= 0.24986894 b= 0.79948527\n",
      "Epoch: 5050 cost= 0.076990604 W= 0.24985294 b= 0.7996006\n",
      "Epoch: 5100 cost= 0.076990604 W= 0.24983795 b= 0.79970884\n",
      "Epoch: 5150 cost= 0.076990589 W= 0.24982396 b= 0.79980934\n",
      "Epoch: 5200 cost= 0.076990589 W= 0.24981023 b= 0.799907\n",
      "Epoch: 5250 cost= 0.076990589 W= 0.24979798 b= 0.7999967\n",
      "Epoch: 5300 cost= 0.076990604 W= 0.24978618 b= 0.8000805\n",
      "Epoch: 5350 cost= 0.076990589 W= 0.2497748 b= 0.80016345\n",
      "Epoch: 5400 cost= 0.076990604 W= 0.24976417 b= 0.80024\n",
      "Epoch: 5450 cost= 0.076990619 W= 0.24975432 b= 0.8003101\n",
      "Epoch: 5500 cost= 0.076990619 W= 0.2497448 b= 0.8003791\n",
      "Epoch: 5550 cost= 0.076990604 W= 0.24973562 b= 0.80044466\n",
      "Epoch: 5600 cost= 0.076990619 W= 0.2497273 b= 0.80050474\n",
      "Epoch: 5650 cost= 0.076990642 W= 0.24971947 b= 0.80056095\n",
      "Epoch: 5700 cost= 0.076990634 W= 0.24971163 b= 0.8006171\n",
      "Epoch: 5750 cost= 0.076990634 W= 0.24970546 b= 0.80066246\n",
      "Epoch: 5800 cost= 0.076990634 W= 0.24969892 b= 0.80070937\n",
      "Epoch: 5850 cost= 0.076990649 W= 0.24969244 b= 0.80075556\n",
      "Epoch: 5900 cost= 0.076990657 W= 0.24968664 b= 0.8007967\n",
      "Epoch: 5950 cost= 0.076990657 W= 0.249681 b= 0.8008376\n",
      "Epoch: 6000 cost= 0.076990664 W= 0.24967586 b= 0.8008753\n",
      "Epoch: 6050 cost= 0.076990664 W= 0.24967088 b= 0.8009106\n",
      "Epoch: 6100 cost= 0.076990664 W= 0.24966632 b= 0.8009434\n",
      "Epoch: 6150 cost= 0.076990679 W= 0.24966174 b= 0.80097616\n",
      "Epoch: 6200 cost= 0.076990686 W= 0.24965763 b= 0.80100596\n",
      "Epoch: 6250 cost= 0.076990694 W= 0.24965455 b= 0.8010272\n",
      "Epoch: 6300 cost= 0.076990671 W= 0.24965203 b= 0.80104625\n",
      "Epoch: 6350 cost= 0.076990694 W= 0.24964914 b= 0.801067\n",
      "Epoch: 6400 cost= 0.076990694 W= 0.24964641 b= 0.8010864\n",
      "Epoch: 6450 cost= 0.076990701 W= 0.24964397 b= 0.8011043\n",
      "Epoch: 6500 cost= 0.076990716 W= 0.24964139 b= 0.8011222\n",
      "Epoch: 6550 cost= 0.076990694 W= 0.24963899 b= 0.80114007\n",
      "Epoch: 6600 cost= 0.076990709 W= 0.24963638 b= 0.8011588\n",
      "Epoch: 6650 cost= 0.076990709 W= 0.24963364 b= 0.80117875\n",
      "Epoch: 6700 cost= 0.076990716 W= 0.24963133 b= 0.80119556\n",
      "Epoch: 6750 cost= 0.076990724 W= 0.24962953 b= 0.8012077\n",
      "Epoch: 6800 cost= 0.076990724 W= 0.2496279 b= 0.80121964\n",
      "Epoch: 6850 cost= 0.076990716 W= 0.24962623 b= 0.80123156\n",
      "Epoch: 6900 cost= 0.076990724 W= 0.24962458 b= 0.8012436\n",
      "Epoch: 6950 cost= 0.076990716 W= 0.2496226 b= 0.8012585\n",
      "Epoch: 7000 cost= 0.076990724 W= 0.24962077 b= 0.80127066\n",
      "Epoch: 7050 cost= 0.076990731 W= 0.24961989 b= 0.80127674\n",
      "Epoch: 7100 cost= 0.076990746 W= 0.24961911 b= 0.8012827\n",
      "Epoch: 7150 cost= 0.076990731 W= 0.2496183 b= 0.80128866\n",
      "Epoch: 7200 cost= 0.076990739 W= 0.24961731 b= 0.80129564\n",
      "Epoch: 7250 cost= 0.076990739 W= 0.24961601 b= 0.8013046\n",
      "Epoch: 7300 cost= 0.076990739 W= 0.24961494 b= 0.8013135\n",
      "Epoch: 7350 cost= 0.076990724 W= 0.2496137 b= 0.80132246\n",
      "Epoch: 7400 cost= 0.076990746 W= 0.24961236 b= 0.8013314\n",
      "Epoch: 7450 cost= 0.076990746 W= 0.2496111 b= 0.80134034\n",
      "Epoch: 7500 cost= 0.076990724 W= 0.2496105 b= 0.8013449\n",
      "Epoch: 7550 cost= 0.076990739 W= 0.24961 b= 0.80134785\n",
      "Epoch: 7600 cost= 0.076990761 W= 0.24960962 b= 0.80135083\n",
      "Epoch: 7650 cost= 0.076990753 W= 0.2496092 b= 0.8013538\n",
      "Epoch: 7700 cost= 0.076990761 W= 0.24960876 b= 0.8013568\n",
      "Epoch: 7750 cost= 0.076990739 W= 0.24960846 b= 0.8013598\n",
      "Epoch: 7800 cost= 0.076990746 W= 0.24960834 b= 0.80136055\n",
      "Epoch: 7850 cost= 0.076990746 W= 0.24960834 b= 0.80136055\n",
      "Epoch: 7900 cost= 0.076990746 W= 0.24960834 b= 0.80136055\n",
      "Epoch: 7950 cost= 0.076990746 W= 0.24960834 b= 0.80136055\n",
      "Epoch: 8000 cost= 0.076990746 W= 0.24960834 b= 0.80136055\n",
      "Epoch: 8050 cost= 0.076990746 W= 0.24960834 b= 0.80136055\n",
      "Epoch: 8100 cost= 0.076990746 W= 0.24960834 b= 0.80136055\n",
      "Epoch: 8150 cost= 0.076990746 W= 0.24960834 b= 0.80136055\n",
      "Epoch: 8200 cost= 0.076990746 W= 0.24960834 b= 0.80136055\n",
      "Epoch: 8250 cost= 0.076990746 W= 0.24960834 b= 0.80136055\n",
      "Epoch: 8300 cost= 0.076990746 W= 0.24960834 b= 0.80136055\n",
      "Epoch: 8350 cost= 0.076990746 W= 0.24960834 b= 0.80136055\n",
      "Epoch: 8400 cost= 0.076990746 W= 0.24960834 b= 0.80136055\n",
      "Epoch: 8450 cost= 0.076990746 W= 0.24960834 b= 0.80136055\n",
      "Epoch: 8500 cost= 0.076990746 W= 0.24960834 b= 0.80136055\n",
      "Epoch: 8550 cost= 0.076990746 W= 0.24960834 b= 0.80136055\n",
      "Epoch: 8600 cost= 0.076990746 W= 0.24960834 b= 0.80136055\n",
      "Epoch: 8650 cost= 0.076990746 W= 0.24960834 b= 0.80136055\n",
      "Epoch: 8700 cost= 0.076990746 W= 0.24960834 b= 0.80136055\n",
      "Epoch: 8750 cost= 0.076990746 W= 0.24960834 b= 0.80136055\n",
      "Epoch: 8800 cost= 0.076990746 W= 0.24960834 b= 0.80136055\n",
      "Epoch: 8850 cost= 0.076990746 W= 0.24960834 b= 0.80136055\n",
      "Epoch: 8900 cost= 0.076990746 W= 0.24960834 b= 0.80136055\n",
      "Epoch: 8950 cost= 0.076990746 W= 0.24960834 b= 0.80136055\n",
      "Epoch: 9000 cost= 0.076990746 W= 0.24960834 b= 0.80136055\n",
      "Epoch: 9050 cost= 0.076990746 W= 0.24960834 b= 0.80136055\n",
      "Epoch: 9100 cost= 0.076990746 W= 0.24960834 b= 0.80136055\n",
      "Epoch: 9150 cost= 0.076990746 W= 0.24960834 b= 0.80136055\n",
      "Epoch: 9200 cost= 0.076990746 W= 0.24960834 b= 0.80136055\n",
      "Epoch: 9250 cost= 0.076990746 W= 0.24960834 b= 0.80136055\n",
      "Epoch: 9300 cost= 0.076990746 W= 0.24960834 b= 0.80136055\n",
      "Epoch: 9350 cost= 0.076990746 W= 0.24960834 b= 0.80136055\n",
      "Epoch: 9400 cost= 0.076990746 W= 0.24960834 b= 0.80136055\n",
      "Epoch: 9450 cost= 0.076990746 W= 0.24960834 b= 0.80136055\n",
      "Epoch: 9500 cost= 0.076990746 W= 0.24960834 b= 0.80136055\n",
      "Epoch: 9550 cost= 0.076990746 W= 0.24960834 b= 0.80136055\n",
      "Epoch: 9600 cost= 0.076990746 W= 0.24960834 b= 0.80136055\n",
      "Epoch: 9650 cost= 0.076990746 W= 0.24960834 b= 0.80136055\n",
      "Epoch: 9700 cost= 0.076990746 W= 0.24960834 b= 0.80136055\n",
      "Epoch: 9750 cost= 0.076990746 W= 0.24960834 b= 0.80136055\n",
      "Epoch: 9800 cost= 0.076990746 W= 0.24960834 b= 0.80136055\n",
      "Epoch: 9850 cost= 0.076990746 W= 0.24960834 b= 0.80136055\n",
      "Epoch: 9900 cost= 0.076990746 W= 0.24960834 b= 0.80136055\n",
      "Epoch: 9950 cost= 0.076990746 W= 0.24960834 b= 0.80136055\n",
      "Epoch: 10000 cost= 0.076990746 W= 0.24960834 b= 0.80136055\n",
      "Optimization Finished!\n",
      "Training cost= 0.076990746 W= 0.24960834 b= 0.80136055 \n"
     ]
    },
    {
     "data": {
      "text/plain": "<Figure size 640x480 with 1 Axes>",
      "image/png": "[encoded data removed]"
     },
     "metadata": {},
     "output_type": "display_data"
    },
    {
     "name": "stdout",
     "output_type": "stream",
     "text": [
      "Testing... (Mean square loss Comparison)\n",
      "Testing cost= 0.07910849\n",
      "Absolute mean square loss difference: 0.0021177456\n"
     ]
    },
    {
     "data": {
      "text/plain": "<Figure size 640x480 with 1 Axes>",
      "image/png": "[encoded data removed]"
     },
     "metadata": {},
     "output_type": "display_data"
    }
   ],
   "source": [
    "# 开始训练\n",
    "with tf.Session() as sess:\n",
    "    sess.run(init)\n",
    "\n",
    "    # 灌入所有训练数据\n",
    "    \"\"\"zip(a,b)相当于把(a,b)变成了一个字典，而train_X or train_Y是列表\"\"\"\n",
    "    for epoch in range(training_epochs):\n",
    "        for (x, y) in zip(train_X, train_Y):\n",
    "            sess.run(optimizer, feed_dict={X: x, Y: y})\n",
    "\n",
    "        # 打印出每次迭代的log日志\n",
    "        \"\"\"每隔display_step输出一次（目前设置为50），我们输出迭代次数，下降值，更新的权重W和偏置b\"\"\"\n",
    "        if (epoch+1) % display_step == 0:\n",
    "            c = sess.run(cost, feed_dict={X: train_X, Y:train_Y})\n",
    "            print(\"Epoch:\", '%04d' % (epoch+1), \"cost=\", \"{:.9f}\".format(c), \\\n",
    "                \"W=\", sess.run(W), \"b=\", sess.run(b))\n",
    "\n",
    "    \"\"\"迭代完显示作图，这里就不多说了，不难理解的。\"\"\"\n",
    "    print(\"Optimization Finished!\")\n",
    "    training_cost = sess.run(cost, feed_dict={X: train_X, Y: train_Y})\n",
    "    print(\"Training cost=\", training_cost, \"W=\", sess.run(W), \"b=\", sess.run(b), '\\n')\n",
    "\n",
    "    # 作图\n",
    "    plt.plot(train_X, train_Y, 'ro', label='Original data')\n",
    "    plt.plot(train_X, sess.run(W) * train_X + sess.run(b), label='Fitted line')\n",
    "    plt.legend()\n",
    "    plt.show()\n",
    "    \n",
    "    # 测试样本\n",
    "    test_X = numpy.asarray([6.83, 4.668, 8.9, 7.91, 5.7, 8.7, 3.1, 2.1])\n",
    "    test_Y = numpy.asarray([1.84, 2.273, 3.2, 2.831, 2.92, 3.24, 1.35, 1.03])\n",
    "\n",
    "    print(\"Testing... (Mean square loss Comparison)\")\n",
    "    testing_cost = sess.run(\n",
    "        tf.reduce_sum(tf.pow(pred - Y, 2)) / (2 * test_X.shape[0]),\n",
    "        feed_dict={X: test_X, Y: test_Y})  # same function as cost above\n",
    "    print(\"Testing cost=\", testing_cost)\n",
    "    print(\"Absolute mean square loss difference:\", abs(\n",
    "        training_cost - testing_cost))\n",
    "\n",
    "    plt.plot(test_X, test_Y, 'bo', label='Testing data')\n",
    "    plt.plot(train_X, sess.run(W) * train_X + sess.run(b), label='Fitted line')\n",
    "    plt.legend()\n",
    "    plt.show()"
   ],
   "metadata": {
    "collapsed": false,
    "ExecuteTime": {
     "end_time": "2024-02-27T11:03:38.652709400Z",
     "start_time": "2024-02-27T11:02:40.683089800Z"
    }
   },
   "id": "816945df20bcded2"
  }
 ],
 "metadata": {
  "kernelspec": {
   "name": "tensor_test_1x",
   "language": "python",
   "display_name": "tensor_test_1x"
  },
  "language_info": {
   "codemirror_mode": {
    "name": "ipython",
    "version": 2
   },
   "file_extension": ".py",
   "mimetype": "text/x-python",
   "name": "python",
   "nbconvert_exporter": "python",
   "pygments_lexer": "ipython2",
   "version": "2.7.6"
  }
 },
 "nbformat": 4,
 "nbformat_minor": 5
}
