{
 "cells": [
  {
   "cell_type": "markdown",
   "source": [
    "# Tensorflw快速入门二\n",
    "## 手写数字识别\n",
    "\n",
    "* 运用逻辑回归算法对手写数字进行识别\n",
    "\n",
    "## MNIST 数据集简介\n",
    "手写数字识别也是比较常见的例子了，这个数据集包含有60000张用于训练的手写数字的图片，10000张用于测试的图片，所有图片的尺寸都已经被标准化了，并且，尺寸为2828，每个像素值0~1区间内的值，其中0代表白色，1代表黑色，区间内的值表示灰色。为了简化，每张图片已经被转换成一个1728的一维数组，表示784个特征（28*28）。\n",
    "\n",
    "<img src=\"images/img.png\">\n",
    "\n",
    "数据集下载: http://yann.lecun.com/exdb/mnist/"
   ],
   "metadata": {
    "collapsed": false
   },
   "id": "bc41605c60017e7f"
  },
  {
   "cell_type": "code",
   "execution_count": 16,
   "outputs": [
    {
     "name": "stdout",
     "output_type": "stream",
     "text": [
      "Extracting tensor_1.x/data/number\\train-images-idx3-ubyte.gz\n",
      "Extracting tensor_1.x/data/number\\train-labels-idx1-ubyte.gz\n",
      "Extracting tensor_1.x/data/number\\t10k-images-idx3-ubyte.gz\n",
      "Extracting tensor_1.x/data/number\\t10k-labels-idx1-ubyte.gz\n",
      "Datasets(train=<tensorflow.contrib.learn.python.learn.datasets.mnist.DataSet object at 0x000001F28009F108>, validation=<tensorflow.contrib.learn.python.learn.datasets.mnist.DataSet object at 0x000001F2805DB148>, test=<tensorflow.contrib.learn.python.learn.datasets.mnist.DataSet object at 0x000001F2805DBB88>)\n"
     ]
    }
   ],
   "source": [
    "import tensorflow as tf\n",
    "\n",
    "\"\"\"仅限于tensorflow1.x版本\"\"\"\n",
    "# 加载mnist数据集\n",
    "from tensorflow.examples.tutorials.mnist import input_data\n",
    "mnist = input_data.read_data_sets(\"tensor_1.x/data/number\", one_hot=True)\n",
    "print(mnist)"
   ],
   "metadata": {
    "collapsed": false,
    "ExecuteTime": {
     "end_time": "2024-02-28T07:20:30.126864500Z",
     "start_time": "2024-02-28T07:20:29.724560900Z"
    }
   },
   "id": "5dec32333f7fa72b"
  },
  {
   "cell_type": "markdown",
   "source": [
    "```python\n",
    "from tensorflow.examples.tutorials.mnist import input_data\n",
    "```\n",
    "这个方法只可以用于tensorflow 1.x版本，也就是很早期很早期的版本了。\n",
    "MNIST 数据集简介是很著名的数据集，是由美国一个地方统计出来的。"
   ],
   "metadata": {
    "collapsed": false
   },
   "id": "e2daf07f45515c1e"
  },
  {
   "cell_type": "code",
   "execution_count": 17,
   "outputs": [],
   "source": [
    "# 设置参数\n",
    "learning_rate = 0.01\n",
    "training_epochs = 100\n",
    "batch_size = 100\n",
    "display_step = 1\n",
    "\"\"\"\n",
    "图片非常大，我们可以采取每次加入100张进行训练，每次100张进行迭代。少量批次的训练可以加快模型训练速度。\n",
    "可以尝试调大训练迭代数，可以在某些程度上提高准确度。\n",
    "\"\"\"\n",
    "\n",
    "\n",
    "# tf Graph的输入\n",
    "x = tf.placeholder(tf.float32, [None, 784]) # mnist data image of shape 28*28=784\n",
    "y = tf.placeholder(tf.float32, [None, 10]) # 0-9 digits recognition => 10 classes\n",
    "\"\"\"10个label即0~9\"\"\"\n",
    "\n",
    "# 设置权重和偏置\n",
    "W = tf.Variable(tf.zeros([784, 10]))\n",
    "b = tf.Variable(tf.zeros([10]))\n",
    "\n",
    "# 设定运行模型\n",
    "pred = tf.nn.softmax(tf.matmul(x, W) + b) # Softmax\n",
    "\"\"\"多分类的一个模型，这些暂且不管，我们还没有学习到。\"\"\"\n",
    "\n",
    "# 设置cost function为cross entropy\n",
    "cost = tf.reduce_mean(-tf.reduce_sum(y*tf.log(pred), reduction_indices=1))\n",
    "# 梯度下降\n",
    "optimizer = tf.train.GradientDescentOptimizer(learning_rate).minimize(cost)\n",
    "\n",
    "# 初始化所有参数\n",
    "init = tf.global_variables_initializer()"
   ],
   "metadata": {
    "collapsed": false,
    "ExecuteTime": {
     "end_time": "2024-02-28T07:20:30.221215600Z",
     "start_time": "2024-02-28T07:20:30.131160400Z"
    }
   },
   "id": "3cf24956c950fe8d"
  },
  {
   "cell_type": "code",
   "execution_count": 18,
   "outputs": [
    {
     "name": "stdout",
     "output_type": "stream",
     "text": [
      "WARNING:tensorflow:From C:\\Users\\huanyizhiyuan\\AppData\\Local\\Temp\\ipykernel_8008\\901458910.py:2: The name tf.Session is deprecated. Please use tf.compat.v1.Session instead.\n",
      "Epoch: 0001 cost= 1.183808065\n",
      "Epoch: 0002 cost= 0.665217133\n",
      "Epoch: 0003 cost= 0.552841466\n",
      "Epoch: 0004 cost= 0.498748071\n",
      "Epoch: 0005 cost= 0.465568084\n",
      "Epoch: 0006 cost= 0.442598313\n",
      "Epoch: 0007 cost= 0.425518668\n",
      "Epoch: 0008 cost= 0.412231071\n",
      "Epoch: 0009 cost= 0.401423820\n",
      "Epoch: 0010 cost= 0.392351729\n",
      "Epoch: 0011 cost= 0.384809969\n",
      "Epoch: 0012 cost= 0.378226629\n",
      "Epoch: 0013 cost= 0.372400381\n",
      "Epoch: 0014 cost= 0.367309404\n",
      "Epoch: 0015 cost= 0.362723026\n",
      "Epoch: 0016 cost= 0.358635126\n",
      "Epoch: 0017 cost= 0.354894039\n",
      "Epoch: 0018 cost= 0.351459612\n",
      "Epoch: 0019 cost= 0.348312043\n",
      "Epoch: 0020 cost= 0.345468074\n",
      "Epoch: 0021 cost= 0.342702751\n",
      "Epoch: 0022 cost= 0.340249685\n",
      "Epoch: 0023 cost= 0.337936971\n",
      "Epoch: 0024 cost= 0.335714313\n",
      "Epoch: 0025 cost= 0.333701477\n",
      "Epoch: 0026 cost= 0.331777865\n",
      "Epoch: 0027 cost= 0.329950914\n",
      "Epoch: 0028 cost= 0.328270662\n",
      "Epoch: 0029 cost= 0.326597515\n",
      "Epoch: 0030 cost= 0.325079895\n",
      "Epoch: 0031 cost= 0.323535446\n",
      "Epoch: 0032 cost= 0.322181036\n",
      "Epoch: 0033 cost= 0.320840593\n",
      "Epoch: 0034 cost= 0.319537197\n",
      "Epoch: 0035 cost= 0.318305069\n",
      "Epoch: 0036 cost= 0.317116011\n",
      "Epoch: 0037 cost= 0.316009443\n",
      "Epoch: 0038 cost= 0.314916608\n",
      "Epoch: 0039 cost= 0.313869544\n",
      "Epoch: 0040 cost= 0.312848283\n",
      "Epoch: 0041 cost= 0.311908182\n",
      "Epoch: 0042 cost= 0.310941843\n",
      "Epoch: 0043 cost= 0.310079532\n",
      "Epoch: 0044 cost= 0.309167545\n",
      "Epoch: 0045 cost= 0.308344299\n",
      "Epoch: 0046 cost= 0.307456992\n",
      "Epoch: 0047 cost= 0.306685623\n",
      "Epoch: 0048 cost= 0.305942987\n",
      "Epoch: 0049 cost= 0.305214409\n",
      "Epoch: 0050 cost= 0.304482179\n",
      "Epoch: 0051 cost= 0.303806829\n",
      "Epoch: 0052 cost= 0.303110446\n",
      "Epoch: 0053 cost= 0.302432113\n",
      "Epoch: 0054 cost= 0.301739058\n",
      "Epoch: 0055 cost= 0.301195201\n",
      "Epoch: 0056 cost= 0.300548618\n",
      "Epoch: 0057 cost= 0.299972969\n",
      "Epoch: 0058 cost= 0.299373266\n",
      "Epoch: 0059 cost= 0.298800313\n",
      "Epoch: 0060 cost= 0.298300514\n",
      "Epoch: 0061 cost= 0.297706060\n",
      "Epoch: 0062 cost= 0.297190556\n",
      "Epoch: 0063 cost= 0.296704467\n",
      "Epoch: 0064 cost= 0.296175707\n",
      "Epoch: 0065 cost= 0.295653153\n",
      "Epoch: 0066 cost= 0.295189199\n",
      "Epoch: 0067 cost= 0.294670535\n",
      "Epoch: 0068 cost= 0.294251968\n",
      "Epoch: 0069 cost= 0.293802208\n",
      "Epoch: 0070 cost= 0.293377788\n",
      "Epoch: 0071 cost= 0.292931511\n",
      "Epoch: 0072 cost= 0.292503693\n",
      "Epoch: 0073 cost= 0.292074335\n",
      "Epoch: 0074 cost= 0.291666827\n",
      "Epoch: 0075 cost= 0.291298120\n",
      "Epoch: 0076 cost= 0.290911433\n",
      "Epoch: 0077 cost= 0.290487736\n",
      "Epoch: 0078 cost= 0.290162727\n",
      "Epoch: 0079 cost= 0.289765140\n",
      "Epoch: 0080 cost= 0.289408820\n",
      "Epoch: 0081 cost= 0.289031079\n",
      "Epoch: 0082 cost= 0.288646062\n",
      "Epoch: 0083 cost= 0.288305382\n",
      "Epoch: 0084 cost= 0.287979461\n",
      "Epoch: 0085 cost= 0.287665302\n",
      "Epoch: 0086 cost= 0.287346002\n",
      "Epoch: 0087 cost= 0.287001107\n",
      "Epoch: 0088 cost= 0.286669546\n",
      "Epoch: 0089 cost= 0.286374925\n",
      "Epoch: 0090 cost= 0.286069531\n",
      "Epoch: 0091 cost= 0.285762085\n",
      "Epoch: 0092 cost= 0.285448120\n",
      "Epoch: 0093 cost= 0.285184088\n",
      "Epoch: 0094 cost= 0.284881665\n",
      "Epoch: 0095 cost= 0.284576455\n",
      "Epoch: 0096 cost= 0.284311769\n",
      "Epoch: 0097 cost= 0.284050919\n",
      "Epoch: 0098 cost= 0.283753802\n",
      "Epoch: 0099 cost= 0.283499269\n",
      "Epoch: 0100 cost= 0.283225297\n",
      "Optimization Finished!\n",
      "Accuracy: 0.8986667\n"
     ]
    }
   ],
   "source": [
    "# 开始训练\n",
    "with tf.Session() as sess:\n",
    "    sess.run(init)\n",
    "    \n",
    "    for epoch in range(training_epochs):\n",
    "        avg_cost = 0.\n",
    "        total_batch = int(mnist.train.num_examples/batch_size)\n",
    "        # 遍历每个batch\n",
    "        for i in range(total_batch):\n",
    "            batch_xs, batch_ys = mnist.train.next_batch(batch_size)\n",
    "            # 把每个batch的数据放进去训练\n",
    "            _, c = sess.run([optimizer, cost], feed_dict={x: batch_xs,\n",
    "                                                          y: batch_ys})\n",
    "            # 计算平均损失\n",
    "            avg_cost += c / total_batch\n",
    "        # 展示每次迭代的日志\n",
    "        if (epoch+1) % display_step == 0:\n",
    "            print(\"Epoch:\", '%04d' % (epoch+1), \"cost=\", \"{:.9f}\".format(avg_cost))\n",
    "\n",
    "    print(\"Optimization Finished!\")\n",
    "\n",
    "    # 测试模型\n",
    "    correct_prediction = tf.equal(tf.argmax(pred, 1), tf.argmax(y, 1))\n",
    "    # 计算3000个样本的准确率\n",
    "    accuracy = tf.reduce_mean(tf.cast(correct_prediction, tf.float32))\n",
    "    print(\"Accuracy:\", accuracy.eval({x: mnist.test.images[:3000], y: mnist.test.labels[:3000]}))"
   ],
   "metadata": {
    "collapsed": false,
    "ExecuteTime": {
     "end_time": "2024-02-28T07:21:05.071686700Z",
     "start_time": "2024-02-28T07:20:30.228231500Z"
    }
   },
   "id": "50db58c8cca05610"
  }
 ],
 "metadata": {
  "kernelspec": {
   "name": "tensor_test_1x",
   "language": "python",
   "display_name": "tensor_test_1x"
  },
  "language_info": {
   "codemirror_mode": {
    "name": "ipython",
    "version": 2
   },
   "file_extension": ".py",
   "mimetype": "text/x-python",
   "name": "python",
   "nbconvert_exporter": "python",
   "pygments_lexer": "ipython2",
   "version": "2.7.6"
  }
 },
 "nbformat": 4,
 "nbformat_minor": 5
}
